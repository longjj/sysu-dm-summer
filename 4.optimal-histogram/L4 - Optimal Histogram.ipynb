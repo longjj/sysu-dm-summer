{
 "cells": [
  {
   "cell_type": "markdown",
   "metadata": {},
   "source": [
    "# Introduction\n",
    "\n",
    "In this notebook, we experiment with the optimal histogram algorithm. We will implement a simple version based on recursion and you will do the hard job of implementing a dynamic programming-based version. \n",
    "\n",
    "\n",
    "References: \n",
    "* H. V. Jagadish, Nick Koudas, S. Muthukrishnan, Viswanath Poosala, Kenneth C. Sevcik, Torsten Suel: Optimal Histograms with Quality Guarantees. VLDB 1998: 275-286. (url: http://engineering.nyu.edu/~suel/papers/vopt.pdf)\n",
    "* Dynamic Programming (wikipedia): https://en.wikipedia.org/wiki/Dynamic_programming\n"
   ]
  },
  {
   "cell_type": "code",
   "execution_count": 1,
   "metadata": {
    "collapsed": true
   },
   "outputs": [],
   "source": [
    "LARGE_NUM = 1000000000.0\n",
    "EMPTY = -1\n",
    "\n",
    "DEBUG = 2\n",
    "#DEBUG = 1\n",
    "\n",
    "import numpy as np\n",
    "\n",
    "def sse(arr):\n",
    "    if len(arr) == 0: # deal with arr == []\n",
    "        return 0.0\n",
    "\n",
    "    avg = np.average(arr)\n",
    "    val = sum( [(x-avg)*(x-avg) for x in arr] )\n",
    "    return val\n",
    "\n",
    "def calc_depth(b):\n",
    "    return 5 - b\n",
    "\n",
    "def v_opt_rec(xx, b):\n",
    "    mincost = LARGE_NUM\n",
    "    n = len(xx)\n",
    "\n",
    "    # check boundary condition:\n",
    "    if n < b:\n",
    "        return LARGE_NUM + 1\n",
    "    elif b == 1:\n",
    "        return sse(xx)\n",
    "    else:  # the general case\n",
    "        if DEBUG > 1:\n",
    "            #print('.. BEGIN: input = {!s:<30}, b = {}'.format(xx, b))\n",
    "            print('..{}BEGIN: input = {!s:<30}, b = {}'.format('  '*calc_depth(b), xx, b))\n",
    "\n",
    "            \n",
    "        for t in range(n):\n",
    "            prefix = xx[0 : t+1]\n",
    "            suffix = xx[t+1 : ]\n",
    "            cost = sse(prefix) + v_opt_rec(suffix, b - 1)\n",
    "            mincost = min(mincost, cost)\n",
    "\n",
    "        if DEBUG > 0:\n",
    "            #print('.. END: input = {!s:<32}, b = {}, mincost = {}'.format(xx, b, mincost))\n",
    "            print('..{}END: input = {!s:<32}, b = {}, mincost = {}'.format('  '*calc_depth(b), xx, b, mincost))\n",
    "\n",
    "        return mincost\n",
    "\n"
   ]
  },
  {
   "cell_type": "markdown",
   "metadata": {},
   "source": [
    "Now, try to understand how the algorithm works -- feel free to modify the code to output more if you need. Specifically, \n",
    "\n",
    "1. Observe and understand how the recursion works (set `DEBUG = 2`)\n",
    "2. Observe and understand how many sub-problems are being solved again and again (set `DEBUG = 1`), especially when the input array is longer. "
   ]
  },
  {
   "cell_type": "code",
   "execution_count": 2,
   "metadata": {},
   "outputs": [
    {
     "name": "stdout",
     "output_type": "stream",
     "text": [
      "..    BEGIN: input = [7, 9, 13, 5]                 , b = 3\n",
      "..      BEGIN: input = [9, 13, 5]                    , b = 2\n",
      "..      END: input = [9, 13, 5]                      , b = 2, mincost = 8.0\n",
      "..      BEGIN: input = [13, 5]                       , b = 2\n",
      "..      END: input = [13, 5]                         , b = 2, mincost = 0.0\n",
      "..    END: input = [7, 9, 13, 5]                   , b = 3, mincost = 2.0\n",
      "optimal cost = 2.0\n"
     ]
    }
   ],
   "source": [
    "x = [7, 9, 13, 5]\n",
    "b = 3\n",
    "\n",
    "c = v_opt_rec(x, b)\n",
    "print('optimal cost = {}'.format(c))"
   ]
  },
  {
   "cell_type": "code",
   "execution_count": 3,
   "metadata": {},
   "outputs": [
    {
     "name": "stdout",
     "output_type": "stream",
     "text": [
      "..  BEGIN: input = [1, 3, 9, 13, 17]             , b = 4\n",
      "..    BEGIN: input = [3, 9, 13, 17]                , b = 3\n",
      "..      BEGIN: input = [9, 13, 17]                   , b = 2\n",
      "..      END: input = [9, 13, 17]                     , b = 2, mincost = 8.0\n",
      "..      BEGIN: input = [13, 17]                      , b = 2\n",
      "..      END: input = [13, 17]                        , b = 2, mincost = 0.0\n",
      "..    END: input = [3, 9, 13, 17]                  , b = 3, mincost = 8.0\n",
      "..    BEGIN: input = [9, 13, 17]                   , b = 3\n",
      "..      BEGIN: input = [13, 17]                      , b = 2\n",
      "..      END: input = [13, 17]                        , b = 2, mincost = 0.0\n",
      "..    END: input = [9, 13, 17]                     , b = 3, mincost = 0.0\n",
      "..  END: input = [1, 3, 9, 13, 17]               , b = 4, mincost = 2.0\n",
      "c = 2.0\n"
     ]
    }
   ],
   "source": [
    "x = [1, 3, 9, 13, 17]\n",
    "b = 4\n",
    "\n",
    "c = v_opt_rec(x, b)\n",
    "print('c = {}'.format(c))"
   ]
  },
  {
   "cell_type": "code",
   "execution_count": 7,
   "metadata": {},
   "outputs": [
    {
     "name": "stdout",
     "output_type": "stream",
     "text": [
      "..  BEGIN: input = [3, 1, 18, 9, 13, 34, 17]     , b = 4\n",
      "..    BEGIN: input = [1, 18, 9, 13, 34, 17]        , b = 3\n",
      "..      BEGIN: input = [18, 9, 13, 34, 17]           , b = 2\n",
      "..      END: input = [18, 9, 13, 34, 17]             , b = 2, mincost = 185.16666666666669\n",
      "..      BEGIN: input = [9, 13, 34, 17]               , b = 2\n",
      "..      END: input = [9, 13, 34, 17]                 , b = 2, mincost = 152.5\n",
      "..      BEGIN: input = [13, 34, 17]                  , b = 2\n",
      "..      END: input = [13, 34, 17]                    , b = 2, mincost = 144.5\n",
      "..      BEGIN: input = [34, 17]                      , b = 2\n",
      "..      END: input = [34, 17]                        , b = 2, mincost = 0.0\n",
      "..    END: input = [1, 18, 9, 13, 34, 17]          , b = 3, mincost = 154.75\n",
      "..    BEGIN: input = [18, 9, 13, 34, 17]           , b = 3\n",
      "..      BEGIN: input = [9, 13, 34, 17]               , b = 2\n",
      "..      END: input = [9, 13, 34, 17]                 , b = 2, mincost = 152.5\n",
      "..      BEGIN: input = [13, 34, 17]                  , b = 2\n",
      "..      END: input = [13, 34, 17]                    , b = 2, mincost = 144.5\n",
      "..      BEGIN: input = [34, 17]                      , b = 2\n",
      "..      END: input = [34, 17]                        , b = 2, mincost = 0.0\n",
      "..    END: input = [18, 9, 13, 34, 17]             , b = 3, mincost = 40.66666666666667\n",
      "..    BEGIN: input = [9, 13, 34, 17]               , b = 3\n",
      "..      BEGIN: input = [13, 34, 17]                  , b = 2\n",
      "..      END: input = [13, 34, 17]                    , b = 2, mincost = 144.5\n",
      "..      BEGIN: input = [34, 17]                      , b = 2\n",
      "..      END: input = [34, 17]                        , b = 2, mincost = 0.0\n",
      "..    END: input = [9, 13, 34, 17]                 , b = 3, mincost = 8.0\n",
      "..    BEGIN: input = [13, 34, 17]                  , b = 3\n",
      "..      BEGIN: input = [34, 17]                      , b = 2\n",
      "..      END: input = [34, 17]                        , b = 2, mincost = 0.0\n",
      "..    END: input = [13, 34, 17]                    , b = 3, mincost = 0.0\n",
      "..  END: input = [3, 1, 18, 9, 13, 34, 17]       , b = 4, mincost = 42.66666666666667\n",
      "c = 42.66666666666667\n"
     ]
    }
   ],
   "source": [
    "x = [3, 1, 18, 9, 13, 34, 17]\n",
    "b = 4\n",
    "\n",
    "c = v_opt_rec(x, b)\n",
    "print('c = {}'.format(c))"
   ]
  },
  {
   "cell_type": "code",
   "execution_count": 5,
   "metadata": {},
   "outputs": [
    {
     "name": "stdout",
     "output_type": "stream",
     "text": [
      "..  BEGIN: input = [1, 2, 3, 4, 5, 6]            , b = 4\n",
      "..    BEGIN: input = [2, 3, 4, 5, 6]               , b = 3\n",
      "..      BEGIN: input = [3, 4, 5, 6]                  , b = 2\n",
      "..      END: input = [3, 4, 5, 6]                    , b = 2, mincost = 1.0\n",
      "..      BEGIN: input = [4, 5, 6]                     , b = 2\n",
      "..      END: input = [4, 5, 6]                       , b = 2, mincost = 0.5\n",
      "..      BEGIN: input = [5, 6]                        , b = 2\n",
      "..      END: input = [5, 6]                          , b = 2, mincost = 0.0\n",
      "..    END: input = [2, 3, 4, 5, 6]                 , b = 3, mincost = 1.0\n",
      "..    BEGIN: input = [3, 4, 5, 6]                  , b = 3\n",
      "..      BEGIN: input = [4, 5, 6]                     , b = 2\n",
      "..      END: input = [4, 5, 6]                       , b = 2, mincost = 0.5\n",
      "..      BEGIN: input = [5, 6]                        , b = 2\n",
      "..      END: input = [5, 6]                          , b = 2, mincost = 0.0\n",
      "..    END: input = [3, 4, 5, 6]                    , b = 3, mincost = 0.5\n",
      "..    BEGIN: input = [4, 5, 6]                     , b = 3\n",
      "..      BEGIN: input = [5, 6]                        , b = 2\n",
      "..      END: input = [5, 6]                          , b = 2, mincost = 0.0\n",
      "..    END: input = [4, 5, 6]                       , b = 3, mincost = 0.0\n",
      "..  END: input = [1, 2, 3, 4, 5, 6]              , b = 4, mincost = 1.0\n",
      "c = 1.0\n"
     ]
    }
   ],
   "source": [
    "x = [1, 2, 3, 4, 5, 6]\n",
    "b = 4\n",
    "\n",
    "c = v_opt_rec(x, b)\n",
    "print('c = {}'.format(c))"
   ]
  },
  {
   "cell_type": "code",
   "execution_count": 6,
   "metadata": {},
   "outputs": [
    {
     "name": "stdout",
     "output_type": "stream",
     "text": [
      "..  BEGIN: input = [1, 7, 8, 15, 21, 30, 78]     , b = 4\n",
      "..    BEGIN: input = [7, 8, 15, 21, 30, 78]        , b = 3\n",
      "..      BEGIN: input = [8, 15, 21, 30, 78]           , b = 2\n",
      "..      END: input = [8, 15, 21, 30, 78]             , b = 2, mincost = 261.0\n",
      "..      BEGIN: input = [15, 21, 30, 78]              , b = 2\n",
      "..      END: input = [15, 21, 30, 78]                , b = 2, mincost = 114.0\n",
      "..      BEGIN: input = [21, 30, 78]                  , b = 2\n",
      "..      END: input = [21, 30, 78]                    , b = 2, mincost = 40.5\n",
      "..      BEGIN: input = [30, 78]                      , b = 2\n",
      "..      END: input = [30, 78]                        , b = 2, mincost = 0.0\n",
      "..    END: input = [7, 8, 15, 21, 30, 78]          , b = 3, mincost = 78.5\n",
      "..    BEGIN: input = [8, 15, 21, 30, 78]           , b = 3\n",
      "..      BEGIN: input = [15, 21, 30, 78]              , b = 2\n",
      "..      END: input = [15, 21, 30, 78]                , b = 2, mincost = 114.0\n",
      "..      BEGIN: input = [21, 30, 78]                  , b = 2\n",
      "..      END: input = [21, 30, 78]                    , b = 2, mincost = 40.5\n",
      "..      BEGIN: input = [30, 78]                      , b = 2\n",
      "..      END: input = [30, 78]                        , b = 2, mincost = 0.0\n",
      "..    END: input = [8, 15, 21, 30, 78]             , b = 3, mincost = 65.0\n",
      "..    BEGIN: input = [15, 21, 30, 78]              , b = 3\n",
      "..      BEGIN: input = [21, 30, 78]                  , b = 2\n",
      "..      END: input = [21, 30, 78]                    , b = 2, mincost = 40.5\n",
      "..      BEGIN: input = [30, 78]                      , b = 2\n",
      "..      END: input = [30, 78]                        , b = 2, mincost = 0.0\n",
      "..    END: input = [15, 21, 30, 78]                , b = 3, mincost = 18.0\n",
      "..    BEGIN: input = [21, 30, 78]                  , b = 3\n",
      "..      BEGIN: input = [30, 78]                      , b = 2\n",
      "..      END: input = [30, 78]                        , b = 2, mincost = 0.0\n",
      "..    END: input = [21, 30, 78]                    , b = 3, mincost = 0.0\n",
      "..  END: input = [1, 7, 8, 15, 21, 30, 78]       , b = 4, mincost = 46.666666666666664\n",
      "c = 46.666666666666664\n"
     ]
    }
   ],
   "source": [
    "x = [1, 7, 8, 15, 21, 30, 78]\n",
    "b = 4\n",
    "\n",
    "c = v_opt_rec(x, b)\n",
    "print('c = {}'.format(c))"
   ]
  },
  {
   "cell_type": "markdown",
   "metadata": {},
   "source": [
    "## Exercise\n",
    "\n",
    "Now you need to implement the same algorithm using dynamic programming. The idea is to fill in a table, named `opt`, of $b \\times n$, where `opt[i][j]` records the optimal cost for building a histogram of $[x_j, x_{j+1}, \\ldots, x_n]$ using $i$ bins. \n",
    "\n",
    "The first step is to work out the general recursive formula, in the form of: \n",
    "$$\n",
    "opt[i][j] = \\min_{t} f(t)\n",
    "$$\n",
    "You need to work out what is the domain of $t$ and what exactly is $f()$, which should depend on $opt[u][v]$ that has **already** been computed. If you cannot work it out directly, you can observe the sub-problems being solved in the recursive algorithm and see if you can schedule the computation of table cells such that every cell required on the right hand side (i.e., $f(t)$) is always scheduled **before** the current cell $opt[i][j]$. "
   ]
  },
  {
   "cell_type": "code",
   "execution_count": null,
   "metadata": {
    "collapsed": true
   },
   "outputs": [],
   "source": []
  },
  {
   "cell_type": "code",
   "execution_count": null,
   "metadata": {
    "collapsed": true
   },
   "outputs": [],
   "source": []
  },
  {
   "cell_type": "code",
   "execution_count": null,
   "metadata": {
    "collapsed": true
   },
   "outputs": [],
   "source": []
  },
  {
   "cell_type": "code",
   "execution_count": null,
   "metadata": {
    "collapsed": true
   },
   "outputs": [],
   "source": []
  }
 ],
 "metadata": {
  "kernelspec": {
   "display_name": "Python 3",
   "language": "python",
   "name": "python3"
  },
  "language_info": {
   "codemirror_mode": {
    "name": "ipython",
    "version": 3
   },
   "file_extension": ".py",
   "mimetype": "text/x-python",
   "name": "python",
   "nbconvert_exporter": "python",
   "pygments_lexer": "ipython3",
   "version": "3.6.1"
  }
 },
 "nbformat": 4,
 "nbformat_minor": 1
}
